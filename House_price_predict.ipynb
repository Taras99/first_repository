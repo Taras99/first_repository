{
  "nbformat": 4,
  "nbformat_minor": 0,
  "metadata": {
    "colab": {
      "name": "House_price_predict.ipynb",
      "provenance": [],
      "authorship_tag": "ABX9TyPVzFfa+TaiUeZKrYV2/FUe",
      "include_colab_link": true
    },
    "kernelspec": {
      "name": "python3",
      "display_name": "Python 3"
    }
  },
  "cells": [
    {
      "cell_type": "markdown",
      "metadata": {
        "id": "view-in-github",
        "colab_type": "text"
      },
      "source": [
        "<a href=\"https://colab.research.google.com/github/Taras99/first_repository/blob/master/House_price_predict.ipynb\" target=\"_parent\"><img src=\"https://colab.research.google.com/assets/colab-badge.svg\" alt=\"Open In Colab\"/></a>"
      ]
    },
    {
      "cell_type": "code",
      "metadata": {
        "id": "aA44wiXS106y",
        "colab_type": "code",
        "colab": {}
      },
      "source": [
        "import pandas as pd\n",
        "import matplotlib.pyplot as plt\n",
        "import numpy as np\n",
        "import seaborn as sns\n",
        "from sklearn.linear_model import LinearRegression\n",
        "from sklearn.model_selection import train_test_split"
      ],
      "execution_count": 28,
      "outputs": []
    },
    {
      "cell_type": "code",
      "metadata": {
        "id": "ZtAdXNZpc9m5",
        "colab_type": "code",
        "colab": {
          "base_uri": "https://localhost:8080/",
          "height": 733
        },
        "outputId": "8f1d064f-2c8d-4241-e75e-c94bd81681ef"
      },
      "source": [
        "df = pd.read_csv('housing.csv')\n",
        "print(df.head())\n",
        "print(df.info())\n",
        "print(df.columns)\n",
        "print(df.isnull().sum())\n",
        "print(df.shape)"
      ],
      "execution_count": 29,
      "outputs": [
        {
          "output_type": "stream",
          "text": [
            "   longitude  latitude  ...  median_house_value  ocean_proximity\n",
            "0    -122.23     37.88  ...            452600.0         NEAR BAY\n",
            "1    -122.22     37.86  ...            358500.0         NEAR BAY\n",
            "2    -122.24     37.85  ...            352100.0         NEAR BAY\n",
            "3    -122.25     37.85  ...            341300.0         NEAR BAY\n",
            "4    -122.25     37.85  ...            342200.0         NEAR BAY\n",
            "\n",
            "[5 rows x 10 columns]\n",
            "<class 'pandas.core.frame.DataFrame'>\n",
            "RangeIndex: 20640 entries, 0 to 20639\n",
            "Data columns (total 10 columns):\n",
            " #   Column              Non-Null Count  Dtype  \n",
            "---  ------              --------------  -----  \n",
            " 0   longitude           20640 non-null  float64\n",
            " 1   latitude            20640 non-null  float64\n",
            " 2   housing_median_age  20640 non-null  float64\n",
            " 3   total_rooms         20640 non-null  float64\n",
            " 4   total_bedrooms      20433 non-null  float64\n",
            " 5   population          20640 non-null  float64\n",
            " 6   households          20640 non-null  float64\n",
            " 7   median_income       20640 non-null  float64\n",
            " 8   median_house_value  20640 non-null  float64\n",
            " 9   ocean_proximity     20640 non-null  object \n",
            "dtypes: float64(9), object(1)\n",
            "memory usage: 1.6+ MB\n",
            "None\n",
            "Index(['longitude', 'latitude', 'housing_median_age', 'total_rooms',\n",
            "       'total_bedrooms', 'population', 'households', 'median_income',\n",
            "       'median_house_value', 'ocean_proximity'],\n",
            "      dtype='object')\n",
            "longitude               0\n",
            "latitude                0\n",
            "housing_median_age      0\n",
            "total_rooms             0\n",
            "total_bedrooms        207\n",
            "population              0\n",
            "households              0\n",
            "median_income           0\n",
            "median_house_value      0\n",
            "ocean_proximity         0\n",
            "dtype: int64\n",
            "(20640, 10)\n"
          ],
          "name": "stdout"
        }
      ]
    },
    {
      "cell_type": "code",
      "metadata": {
        "id": "tS0it7gGyXjT",
        "colab_type": "code",
        "colab": {
          "base_uri": "https://localhost:8080/",
          "height": 34
        },
        "outputId": "0ae010d0-edff-44e6-bd3f-c8eddc282df1"
      },
      "source": [
        "df.dropna(subset=['total_bedrooms'],inplace=True)\n",
        "print(df.shape)"
      ],
      "execution_count": 30,
      "outputs": [
        {
          "output_type": "stream",
          "text": [
            "(20433, 10)\n"
          ],
          "name": "stdout"
        }
      ]
    },
    {
      "cell_type": "code",
      "metadata": {
        "id": "OiHDaN2R1Iq7",
        "colab_type": "code",
        "colab": {
          "base_uri": "https://localhost:8080/",
          "height": 204
        },
        "outputId": "a7739925-2365-4e2e-95a1-a102ba68c842"
      },
      "source": [
        "sub=['total_rooms','total_bedrooms','population','households']\n",
        "df[sub] = df[sub].astype('int')\n",
        "df.dtypes"
      ],
      "execution_count": 31,
      "outputs": [
        {
          "output_type": "execute_result",
          "data": {
            "text/plain": [
              "longitude             float64\n",
              "latitude              float64\n",
              "housing_median_age    float64\n",
              "total_rooms             int64\n",
              "total_bedrooms          int64\n",
              "population              int64\n",
              "households              int64\n",
              "median_income         float64\n",
              "median_house_value    float64\n",
              "ocean_proximity        object\n",
              "dtype: object"
            ]
          },
          "metadata": {
            "tags": []
          },
          "execution_count": 31
        }
      ]
    },
    {
      "cell_type": "code",
      "metadata": {
        "id": "FDqDVFLx5rG0",
        "colab_type": "code",
        "colab": {
          "base_uri": "https://localhost:8080/",
          "height": 119
        },
        "outputId": "c188515d-072a-482c-ab68-9fd152a65abc"
      },
      "source": [
        "print(df.ocean_proximity.value_counts())\n",
        "df['ocean_proximity'] = df.ocean_proximity.astype('category')"
      ],
      "execution_count": 32,
      "outputs": [
        {
          "output_type": "stream",
          "text": [
            "<1H OCEAN     9034\n",
            "INLAND        6496\n",
            "NEAR OCEAN    2628\n",
            "NEAR BAY      2270\n",
            "ISLAND           5\n",
            "Name: ocean_proximity, dtype: int64\n"
          ],
          "name": "stdout"
        }
      ]
    },
    {
      "cell_type": "code",
      "metadata": {
        "id": "AAK2hsGCLsBd",
        "colab_type": "code",
        "colab": {
          "base_uri": "https://localhost:8080/",
          "height": 68
        },
        "outputId": "30bbc95a-03c8-498c-e70c-d59c31ad7e75"
      },
      "source": [
        "y = df.median_house_value.values\n",
        "X = df.drop(['median_house_value','ocean_proximity'],axis=1).values\n",
        "\n",
        "\n",
        "reg = LinearRegression()\n",
        "\n",
        "X_train, X_test, y_train, y_test = train_test_split( X, y, test_size = 0.25, random_state=42)\n",
        "\n",
        "reg.fit(X_train,y_train)\n",
        "\n",
        "y_pred = reg.predict(X_test)\n",
        "print(y_pred)\n",
        "\n",
        "\n",
        "reg.score(X_test, y_test)\n",
        "\n"
      ],
      "execution_count": 67,
      "outputs": [
        {
          "output_type": "stream",
          "text": [
            "[197348.69879631 157240.25203435 202609.27384464 ... 176025.37942474\n",
            " 135681.04570862 114157.00339622]\n"
          ],
          "name": "stdout"
        },
        {
          "output_type": "execute_result",
          "data": {
            "text/plain": [
              "0.6461446066126699"
            ]
          },
          "metadata": {
            "tags": []
          },
          "execution_count": 67
        }
      ]
    }
  ]
}